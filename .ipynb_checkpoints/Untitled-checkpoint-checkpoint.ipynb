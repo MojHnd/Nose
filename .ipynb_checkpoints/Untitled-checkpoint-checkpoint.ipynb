{
 "cells": [
  {
   "cell_type": "code",
   "execution_count": 2,
   "id": "f91dbd9f",
   "metadata": {},
   "outputs": [],
   "source": [
    "import pandas as pd\n",
    "import glob, os\n",
    "pathdir = \"./files_batch_1,2/\"\n",
    "files = glob.glob(os.path.join(pathdir, \"*/*\"))\n",
    "\n",
    "all_files = []\n",
    "for i in files:\n",
    "    all_files.append(pd.read_csv(i))\n",
    "\n",
    "df = pd.concat(all_files)"
   ]
  },
  {
   "cell_type": "code",
   "execution_count": 1,
   "id": "90453f64",
   "metadata": {},
   "outputs": [],
   "source": [
    "%history -g -f filename \n"
   ]
  },
  {
   "cell_type": "code",
   "execution_count": 6,
   "id": "57421bc9",
   "metadata": {},
   "outputs": [
    {
     "data": {
      "text/plain": [
       "fresh       3667\n",
       "moldy       3497\n",
       "humidity    1749\n",
       "Name: label, dtype: int64"
      ]
     },
     "execution_count": 6,
     "metadata": {},
     "output_type": "execute_result"
    }
   ],
   "source": [
    "df.head()\n",
    "df.info\n",
    "df['label'].value_counts()"
   ]
  },
  {
   "cell_type": "code",
   "execution_count": 142,
   "id": "5389134f",
   "metadata": {
    "scrolled": true
   },
   "outputs": [
    {
     "name": "stdout",
     "output_type": "stream",
     "text": [
      "seconds\n",
      "frequency\n",
      "s1\n",
      "s2\n",
      "s3\n",
      "s4\n",
      "s5\n",
      "s6\n",
      "s7\n",
      "s8\n",
      "s9\n",
      "s10\n",
      "s11\n",
      "s12\n",
      "s13\n",
      "s14\n",
      "s15\n",
      "s16\n",
      "s17\n",
      "s18\n",
      "s19\n",
      "s20\n",
      "s21\n",
      "s22\n",
      "s23\n",
      "s24\n",
      "s25\n",
      "s26\n",
      "s27\n",
      "s28\n",
      "s29\n",
      "s30\n",
      "s31\n",
      "s32\n",
      "timestamp_ms\n",
      "temperature\n",
      "humidity\n",
      "sensor_module_id\n",
      "run_name\n",
      "trial_id\n",
      "dataset\n",
      "session_id\n",
      "trial_state\n",
      "label\n"
     ]
    }
   ],
   "source": [
    "# check the features\n",
    "for i in df:\n",
    "    print(i)"
   ]
  },
  {
   "cell_type": "code",
   "execution_count": 24,
   "id": "930c3a77",
   "metadata": {},
   "outputs": [
    {
     "data": {
      "text/plain": [
       "fresh       3667\n",
       "moldy       3497\n",
       "humidity    1749\n",
       "NaN         1570\n",
       "Name: label, dtype: int64"
      ]
     },
     "execution_count": 24,
     "metadata": {},
     "output_type": "execute_result"
    }
   ],
   "source": [
    "from sklearn.utils import shuffle\n",
    "# df = shuffle(df)\n",
    "df['label'].value_counts(dropna=False)"
   ]
  },
  {
   "cell_type": "code",
   "execution_count": 21,
   "id": "9c227231",
   "metadata": {},
   "outputs": [
    {
     "data": {
      "text/html": [
       "<div>\n",
       "<style scoped>\n",
       "    .dataframe tbody tr th:only-of-type {\n",
       "        vertical-align: middle;\n",
       "    }\n",
       "\n",
       "    .dataframe tbody tr th {\n",
       "        vertical-align: top;\n",
       "    }\n",
       "\n",
       "    .dataframe thead th {\n",
       "        text-align: right;\n",
       "    }\n",
       "</style>\n",
       "<table border=\"1\" class=\"dataframe\">\n",
       "  <thead>\n",
       "    <tr style=\"text-align: right;\">\n",
       "      <th></th>\n",
       "      <th>seconds</th>\n",
       "      <th>frequency</th>\n",
       "      <th>s1</th>\n",
       "      <th>s2</th>\n",
       "      <th>s3</th>\n",
       "      <th>s4</th>\n",
       "      <th>s5</th>\n",
       "      <th>s6</th>\n",
       "      <th>s7</th>\n",
       "      <th>s8</th>\n",
       "      <th>...</th>\n",
       "      <th>timestamp_ms</th>\n",
       "      <th>temperature</th>\n",
       "      <th>humidity</th>\n",
       "      <th>sensor_module_id</th>\n",
       "      <th>run_name</th>\n",
       "      <th>trial_id</th>\n",
       "      <th>dataset</th>\n",
       "      <th>session_id</th>\n",
       "      <th>trial_state</th>\n",
       "      <th>label</th>\n",
       "    </tr>\n",
       "  </thead>\n",
       "  <tbody>\n",
       "    <tr>\n",
       "      <th>0</th>\n",
       "      <td>0.0</td>\n",
       "      <td>1.0</td>\n",
       "      <td>12006</td>\n",
       "      <td>87622</td>\n",
       "      <td>29083</td>\n",
       "      <td>44918</td>\n",
       "      <td>218168</td>\n",
       "      <td>19661</td>\n",
       "      <td>133197</td>\n",
       "      <td>68084</td>\n",
       "      <td>...</td>\n",
       "      <td>2022-11-15T11:02:01.129000-05:00</td>\n",
       "      <td>25.35</td>\n",
       "      <td>32.75</td>\n",
       "      <td>100360_9606_705204</td>\n",
       "      <td>20221115_1101_agritech_bfusmalljarfresh_3_1trials</td>\n",
       "      <td>1</td>\n",
       "      <td>IAF-AGRITECH-BFUSMALLJARFRESH</td>\n",
       "      <td>98ac827f-5b28-4e6a-8d67-3ab183a7cebe</td>\n",
       "      <td>baseline</td>\n",
       "      <td>fresh</td>\n",
       "    </tr>\n",
       "  </tbody>\n",
       "</table>\n",
       "<p>1 rows × 44 columns</p>\n",
       "</div>"
      ],
      "text/plain": [
       "   seconds  frequency     s1     s2     s3     s4      s5     s6      s7  \\\n",
       "0      0.0        1.0  12006  87622  29083  44918  218168  19661  133197   \n",
       "\n",
       "      s8  ...                      timestamp_ms  temperature  humidity  \\\n",
       "0  68084  ...  2022-11-15T11:02:01.129000-05:00        25.35     32.75   \n",
       "\n",
       "     sensor_module_id                                           run_name  \\\n",
       "0  100360_9606_705204  20221115_1101_agritech_bfusmalljarfresh_3_1trials   \n",
       "\n",
       "   trial_id                        dataset  \\\n",
       "0         1  IAF-AGRITECH-BFUSMALLJARFRESH   \n",
       "\n",
       "                             session_id  trial_state  label  \n",
       "0  98ac827f-5b28-4e6a-8d67-3ab183a7cebe     baseline  fresh  \n",
       "\n",
       "[1 rows x 44 columns]"
      ]
     },
     "execution_count": 21,
     "metadata": {},
     "output_type": "execute_result"
    }
   ],
   "source": [
    "df.head(1)"
   ]
  },
  {
   "cell_type": "code",
   "execution_count": 146,
   "id": "8b0e1376",
   "metadata": {},
   "outputs": [
    {
     "name": "stdout",
     "output_type": "stream",
     "text": [
      "['s1', 's2', 's3', 's4', 's5', 's6', 's7', 's8', 's9', 's10', 's11', 's12', 's13', 's14', 's15', 's16', 's17', 's18', 's19', 's20', 's21', 's22', 's23', 's24', 's25', 's26', 's27', 's28', 's29', 's30', 's31', 's32', 'label']\n"
     ]
    }
   ],
   "source": [
    "import re\n",
    "features = [i for i in df if re.findall(\"\\As\\d\", i)]\n",
    "features.append('label')\n",
    "print(features)"
   ]
  },
  {
   "cell_type": "code",
   "execution_count": 147,
   "id": "59eec13a",
   "metadata": {},
   "outputs": [],
   "source": [
    "df = df[features] # Thanks Pegah :)"
   ]
  },
  {
   "cell_type": "code",
   "execution_count": 148,
   "id": "57352e12",
   "metadata": {},
   "outputs": [
    {
     "data": {
      "text/html": [
       "<div>\n",
       "<style scoped>\n",
       "    .dataframe tbody tr th:only-of-type {\n",
       "        vertical-align: middle;\n",
       "    }\n",
       "\n",
       "    .dataframe tbody tr th {\n",
       "        vertical-align: top;\n",
       "    }\n",
       "\n",
       "    .dataframe thead th {\n",
       "        text-align: right;\n",
       "    }\n",
       "</style>\n",
       "<table border=\"1\" class=\"dataframe\">\n",
       "  <thead>\n",
       "    <tr style=\"text-align: right;\">\n",
       "      <th></th>\n",
       "      <th>s1</th>\n",
       "      <th>s2</th>\n",
       "      <th>s3</th>\n",
       "      <th>s4</th>\n",
       "      <th>s5</th>\n",
       "      <th>s6</th>\n",
       "      <th>s7</th>\n",
       "      <th>s8</th>\n",
       "      <th>s9</th>\n",
       "      <th>s10</th>\n",
       "      <th>...</th>\n",
       "      <th>s24</th>\n",
       "      <th>s25</th>\n",
       "      <th>s26</th>\n",
       "      <th>s27</th>\n",
       "      <th>s28</th>\n",
       "      <th>s29</th>\n",
       "      <th>s30</th>\n",
       "      <th>s31</th>\n",
       "      <th>s32</th>\n",
       "      <th>label</th>\n",
       "    </tr>\n",
       "  </thead>\n",
       "  <tbody>\n",
       "    <tr>\n",
       "      <th>60</th>\n",
       "      <td>12323</td>\n",
       "      <td>98698</td>\n",
       "      <td>29355</td>\n",
       "      <td>54527</td>\n",
       "      <td>221544</td>\n",
       "      <td>20425</td>\n",
       "      <td>134975</td>\n",
       "      <td>69108</td>\n",
       "      <td>194479</td>\n",
       "      <td>90420</td>\n",
       "      <td>...</td>\n",
       "      <td>10153</td>\n",
       "      <td>30383</td>\n",
       "      <td>271130</td>\n",
       "      <td>45634</td>\n",
       "      <td>80918</td>\n",
       "      <td>254386</td>\n",
       "      <td>55041</td>\n",
       "      <td>409449</td>\n",
       "      <td>244339</td>\n",
       "      <td>moldy</td>\n",
       "    </tr>\n",
       "  </tbody>\n",
       "</table>\n",
       "<p>1 rows × 33 columns</p>\n",
       "</div>"
      ],
      "text/plain": [
       "       s1     s2     s3     s4      s5     s6      s7     s8      s9    s10  \\\n",
       "60  12323  98698  29355  54527  221544  20425  134975  69108  194479  90420   \n",
       "\n",
       "    ...    s24    s25     s26    s27    s28     s29    s30     s31     s32  \\\n",
       "60  ...  10153  30383  271130  45634  80918  254386  55041  409449  244339   \n",
       "\n",
       "    label  \n",
       "60  moldy  \n",
       "\n",
       "[1 rows x 33 columns]"
      ]
     },
     "execution_count": 148,
     "metadata": {},
     "output_type": "execute_result"
    }
   ],
   "source": [
    "df.head(1)"
   ]
  },
  {
   "cell_type": "code",
   "execution_count": 150,
   "id": "d323f27a",
   "metadata": {},
   "outputs": [
    {
     "name": "stdout",
     "output_type": "stream",
     "text": [
      "['moldy', 'humidity', 'fresh', nan]\n"
     ]
    }
   ],
   "source": [
    "import tensorflow as tf\n",
    "labels = df['label'].unique().tolist()\n",
    "print(labels)\n",
    "# df = df.dropna()"
   ]
  },
  {
   "cell_type": "code",
   "execution_count": 151,
   "id": "d4baf0d5",
   "metadata": {},
   "outputs": [],
   "source": [
    "# labe = tf.keras.utils.to_categorical()\n",
    "# print(labe)\n",
    "\n",
    "def label_encoder(y_train):\n",
    "    y_train_int = []\n",
    "    for i in y_train:\n",
    "        if i==\"humidity\":\n",
    "            y_train_int.append(3)\n",
    "        elif i==\"fresh\":\n",
    "            y_train_int.append(2)\n",
    "        elif i==\"moldy\":\n",
    "            y_train_int.append(1)\n",
    "        else:\n",
    "            y_train_int.append(0)\n",
    "    y_train = y_train_int\n",
    "    return y_train\n",
    "\n",
    "df['label'] = label_encoder(df['label'])"
   ]
  },
  {
   "cell_type": "code",
   "execution_count": 152,
   "id": "4376c1b4",
   "metadata": {},
   "outputs": [
    {
     "data": {
      "text/html": [
       "<div>\n",
       "<style scoped>\n",
       "    .dataframe tbody tr th:only-of-type {\n",
       "        vertical-align: middle;\n",
       "    }\n",
       "\n",
       "    .dataframe tbody tr th {\n",
       "        vertical-align: top;\n",
       "    }\n",
       "\n",
       "    .dataframe thead th {\n",
       "        text-align: right;\n",
       "    }\n",
       "</style>\n",
       "<table border=\"1\" class=\"dataframe\">\n",
       "  <thead>\n",
       "    <tr style=\"text-align: right;\">\n",
       "      <th></th>\n",
       "      <th>s1</th>\n",
       "      <th>s2</th>\n",
       "      <th>s3</th>\n",
       "      <th>s4</th>\n",
       "      <th>s5</th>\n",
       "      <th>s6</th>\n",
       "      <th>s7</th>\n",
       "      <th>s8</th>\n",
       "      <th>s9</th>\n",
       "      <th>s10</th>\n",
       "      <th>...</th>\n",
       "      <th>s24</th>\n",
       "      <th>s25</th>\n",
       "      <th>s26</th>\n",
       "      <th>s27</th>\n",
       "      <th>s28</th>\n",
       "      <th>s29</th>\n",
       "      <th>s30</th>\n",
       "      <th>s31</th>\n",
       "      <th>s32</th>\n",
       "      <th>label</th>\n",
       "    </tr>\n",
       "  </thead>\n",
       "  <tbody>\n",
       "    <tr>\n",
       "      <th>60</th>\n",
       "      <td>12323</td>\n",
       "      <td>98698</td>\n",
       "      <td>29355</td>\n",
       "      <td>54527</td>\n",
       "      <td>221544</td>\n",
       "      <td>20425</td>\n",
       "      <td>134975</td>\n",
       "      <td>69108</td>\n",
       "      <td>194479</td>\n",
       "      <td>90420</td>\n",
       "      <td>...</td>\n",
       "      <td>10153</td>\n",
       "      <td>30383</td>\n",
       "      <td>271130</td>\n",
       "      <td>45634</td>\n",
       "      <td>80918</td>\n",
       "      <td>254386</td>\n",
       "      <td>55041</td>\n",
       "      <td>409449</td>\n",
       "      <td>244339</td>\n",
       "      <td>1</td>\n",
       "    </tr>\n",
       "    <tr>\n",
       "      <th>2</th>\n",
       "      <td>12068</td>\n",
       "      <td>89317</td>\n",
       "      <td>29092</td>\n",
       "      <td>45157</td>\n",
       "      <td>218590</td>\n",
       "      <td>19760</td>\n",
       "      <td>133550</td>\n",
       "      <td>68209</td>\n",
       "      <td>191021</td>\n",
       "      <td>85004</td>\n",
       "      <td>...</td>\n",
       "      <td>6650</td>\n",
       "      <td>28230</td>\n",
       "      <td>260680</td>\n",
       "      <td>39614</td>\n",
       "      <td>40128</td>\n",
       "      <td>218620</td>\n",
       "      <td>31612</td>\n",
       "      <td>406379</td>\n",
       "      <td>240356</td>\n",
       "      <td>3</td>\n",
       "    </tr>\n",
       "    <tr>\n",
       "      <th>146</th>\n",
       "      <td>12153</td>\n",
       "      <td>91811</td>\n",
       "      <td>29218</td>\n",
       "      <td>47215</td>\n",
       "      <td>219386</td>\n",
       "      <td>19922</td>\n",
       "      <td>133854</td>\n",
       "      <td>68420</td>\n",
       "      <td>191625</td>\n",
       "      <td>86316</td>\n",
       "      <td>...</td>\n",
       "      <td>6748</td>\n",
       "      <td>28591</td>\n",
       "      <td>262457</td>\n",
       "      <td>40936</td>\n",
       "      <td>43600</td>\n",
       "      <td>225526</td>\n",
       "      <td>33523</td>\n",
       "      <td>407368</td>\n",
       "      <td>240823</td>\n",
       "      <td>3</td>\n",
       "    </tr>\n",
       "    <tr>\n",
       "      <th>149</th>\n",
       "      <td>12157</td>\n",
       "      <td>91834</td>\n",
       "      <td>29217</td>\n",
       "      <td>47215</td>\n",
       "      <td>219299</td>\n",
       "      <td>19914</td>\n",
       "      <td>133850</td>\n",
       "      <td>68444</td>\n",
       "      <td>191606</td>\n",
       "      <td>86302</td>\n",
       "      <td>...</td>\n",
       "      <td>6744</td>\n",
       "      <td>28591</td>\n",
       "      <td>262395</td>\n",
       "      <td>40955</td>\n",
       "      <td>43584</td>\n",
       "      <td>225442</td>\n",
       "      <td>33512</td>\n",
       "      <td>407120</td>\n",
       "      <td>241046</td>\n",
       "      <td>3</td>\n",
       "    </tr>\n",
       "    <tr>\n",
       "      <th>91</th>\n",
       "      <td>12087</td>\n",
       "      <td>90284</td>\n",
       "      <td>29112</td>\n",
       "      <td>48596</td>\n",
       "      <td>218969</td>\n",
       "      <td>19881</td>\n",
       "      <td>133409</td>\n",
       "      <td>68199</td>\n",
       "      <td>191786</td>\n",
       "      <td>86381</td>\n",
       "      <td>...</td>\n",
       "      <td>6992</td>\n",
       "      <td>28706</td>\n",
       "      <td>262462</td>\n",
       "      <td>40066</td>\n",
       "      <td>44350</td>\n",
       "      <td>221863</td>\n",
       "      <td>34703</td>\n",
       "      <td>406458</td>\n",
       "      <td>241014</td>\n",
       "      <td>3</td>\n",
       "    </tr>\n",
       "  </tbody>\n",
       "</table>\n",
       "<p>5 rows × 33 columns</p>\n",
       "</div>"
      ],
      "text/plain": [
       "        s1     s2     s3     s4      s5     s6      s7     s8      s9    s10  \\\n",
       "60   12323  98698  29355  54527  221544  20425  134975  69108  194479  90420   \n",
       "2    12068  89317  29092  45157  218590  19760  133550  68209  191021  85004   \n",
       "146  12153  91811  29218  47215  219386  19922  133854  68420  191625  86316   \n",
       "149  12157  91834  29217  47215  219299  19914  133850  68444  191606  86302   \n",
       "91   12087  90284  29112  48596  218969  19881  133409  68199  191786  86381   \n",
       "\n",
       "     ...    s24    s25     s26    s27    s28     s29    s30     s31     s32  \\\n",
       "60   ...  10153  30383  271130  45634  80918  254386  55041  409449  244339   \n",
       "2    ...   6650  28230  260680  39614  40128  218620  31612  406379  240356   \n",
       "146  ...   6748  28591  262457  40936  43600  225526  33523  407368  240823   \n",
       "149  ...   6744  28591  262395  40955  43584  225442  33512  407120  241046   \n",
       "91   ...   6992  28706  262462  40066  44350  221863  34703  406458  241014   \n",
       "\n",
       "     label  \n",
       "60       1  \n",
       "2        3  \n",
       "146      3  \n",
       "149      3  \n",
       "91       3  \n",
       "\n",
       "[5 rows x 33 columns]"
      ]
     },
     "execution_count": 152,
     "metadata": {},
     "output_type": "execute_result"
    }
   ],
   "source": [
    "df.head()"
   ]
  },
  {
   "cell_type": "code",
   "execution_count": 153,
   "id": "95e5f527",
   "metadata": {},
   "outputs": [],
   "source": [
    "import numpy as np\n",
    "from sklearn.model_selection import train_test_split\n",
    "\n",
    "df_train, df_test = train_test_split(df,test_size=0.2)\n",
    "\n",
    "X_train, X_test = df_train.drop(columns='label'), df_test.drop(columns='label')\n",
    "X_train, X_test = np.asarray(X_train), np.asarray(X_test)\n",
    "\n",
    "train_label, test_label = df_train['label'], df_test['label']"
   ]
  },
  {
   "cell_type": "code",
   "execution_count": 154,
   "id": "106b0cc3",
   "metadata": {},
   "outputs": [],
   "source": [
    "from sklearn.preprocessing import MinMaxScaler\n",
    "norm = MinMaxScaler().fit(X_train)\n",
    "X_train = norm.transform(X_train)\n",
    "X_test  = norm.transform(X_test)"
   ]
  },
  {
   "cell_type": "code",
   "execution_count": 155,
   "id": "fcdf33db",
   "metadata": {},
   "outputs": [
    {
     "name": "stdout",
     "output_type": "stream",
     "text": [
      "The accuracy score: 0.629\n"
     ]
    }
   ],
   "source": [
    "from sklearn.svm import LinearSVC\n",
    "from sklearn import metrics\n",
    "\n",
    "LSVM = LinearSVC(random_state=0, penalty='l2')\n",
    "LSVM.fit(X_train, train_label)\n",
    "predicted_LSVM = LSVM.predict(X_test)\n",
    "\n",
    "print('The accuracy score: {:.3f}'.format(metrics.accuracy_score(test_label, predicted_LSVM)))"
   ]
  },
  {
   "cell_type": "code",
   "execution_count": 156,
   "id": "88e61805",
   "metadata": {},
   "outputs": [
    {
     "name": "stdout",
     "output_type": "stream",
     "text": [
      "The accuracy score: 0.977\n"
     ]
    }
   ],
   "source": [
    "from sklearn.neighbors import KNeighborsClassifier \n",
    "\n",
    "KNN = KNeighborsClassifier(n_neighbors=3)\n",
    "KNN.fit(X_train, train_label)\n",
    "predicted_KNN = KNN.predict(X_test)\n",
    "\n",
    "print('The accuracy score: {:.3f}'.format(metrics.accuracy_score(test_label, predicted_KNN)))"
   ]
  }
 ],
 "metadata": {
  "kernelspec": {
   "display_name": "Python 3 (ipykernel)",
   "language": "python",
   "name": "python3"
  },
  "language_info": {
   "codemirror_mode": {
    "name": "ipython",
    "version": 3
   },
   "file_extension": ".py",
   "mimetype": "text/x-python",
   "name": "python",
   "nbconvert_exporter": "python",
   "pygments_lexer": "ipython3",
   "version": "3.9.7"
  }
 },
 "nbformat": 4,
 "nbformat_minor": 5
}
