{
 "cells": [
  {
   "cell_type": "code",
   "execution_count": 4,
   "id": "4b004a8e",
   "metadata": {},
   "outputs": [
    {
     "name": "stdout",
     "output_type": "stream",
     "text": [
      "./files_batch_1,2/IAF_2211151042_100360_351a2e1b.csv\n"
     ]
    },
    {
     "name": "stderr",
     "output_type": "stream",
     "text": [
      "/home/moj/anaconda3/envs/NC/lib/python3.9/site-packages/sklearn/base.py:438: UserWarning: X has feature names, but MinMaxScaler was fitted without feature names\n",
      "  warnings.warn(\n"
     ]
    }
   ],
   "source": [
    "import glob\n",
    "import os\n",
    "import pandas as pd\n",
    "import re\n",
    "import pickle\n",
    "scalar   = pickle.load(open('norm.pkl','rb'))\n",
    "\n",
    "pathdir = \"./files_batch_1,2/\"\n",
    "test = glob.glob(os.path.join(pathdir, \"*.csv\"))\n",
    "print(test[0])\n",
    "data ={\n",
    "\t\"data\": \"./files_batch_1,2/IAF_2211151042_100360_351a2e1b.csv\"\n",
    "}\n",
    "\n",
    "\n",
    "read_df_sample = pd.read_csv(data[\"data\"])\n",
    "features = [i for i in read_df_sample if re.findall(\"\\As\\d\", i)]\n",
    "features.append('humidity')\n",
    "batch = read_df_sample.loc[read_df_sample['trial_state'] == 'exposure']\n",
    "batch = batch[features]\n",
    "batch = scalar.transform(batch)"
   ]
  },
  {
   "cell_type": "code",
   "execution_count": null,
   "id": "87d84cc8",
   "metadata": {},
   "outputs": [],
   "source": []
  }
 ],
 "metadata": {
  "kernelspec": {
   "display_name": "Python 3 (ipykernel)",
   "language": "python",
   "name": "python3"
  },
  "language_info": {
   "codemirror_mode": {
    "name": "ipython",
    "version": 3
   },
   "file_extension": ".py",
   "mimetype": "text/x-python",
   "name": "python",
   "nbconvert_exporter": "python",
   "pygments_lexer": "ipython3",
   "version": "3.9.7"
  }
 },
 "nbformat": 4,
 "nbformat_minor": 5
}
